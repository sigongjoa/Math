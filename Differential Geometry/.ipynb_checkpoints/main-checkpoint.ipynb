{
 "cells": [
  {
   "cell_type": "markdown",
   "id": "55100546",
   "metadata": {},
   "source": [
    "# Differential Geometry \n",
    "\n",
    "`수학의 즐거움` 채널에서 `대학원 스터티`용 연습장  \n",
    "\n",
    "* interest\n",
    "\n",
    "pose estimation에서 근육레벨에서 estimation을 하고 싶음     \n",
    "inner product를 정의하면 shape과 volume을 접근을 할 수 있음    \n",
    "가우스의 위대한 정리에서 `intrinsic`라는 리만기하학의 정보만으로 휘어진 정도를 알 수 있으면  리만기하의 정보를 이용하면 내가 보이지 않는 쪽에 대해서도 알 수 있지 않을까?  \n",
    "내부 정보만 + 리만 메트릭을 이용하면 어느정도 형태를 알 수 있음  \n",
    "\n",
    "-> unseen data에 대해서도 어느정도 예측을 할 수 있음  \n",
    "\n",
    "* todo \n",
    "\n",
    "실제로 팔에 대해서 모델링을 한 이후에 실제로 vector space 상에서 표현해보기  "
   ]
  },
  {
   "cell_type": "markdown",
   "id": "16602864",
   "metadata": {},
   "source": [
    "### 2023_08_22\n",
    "\n",
    "* mani fold\n",
    "\n",
    "manifold를 서술 할 떄 manifold $M$ 이라고 서술을하고 개념을 서술을 함  \n",
    "실제로 예제 하나 안 보여주고 그냥 $M$ 이라서 논리를 서술을 하는데 실제 예제를 보여줘야 이해를 하는데 아니라서 조금 그렇다.  \n",
    "\n",
    "* tensor \n",
    "\n",
    "tensor 개념에 대해서 어느정도 알겠는데 실제로 예제를 통해서 이해해 봐야겠다.  \n",
    "refernece에서 찾으면 될듯  "
   ]
  },
  {
   "cell_type": "markdown",
   "id": "37cee027",
   "metadata": {},
   "source": [
    "### 2023_08_23\n",
    "\n",
    "torous를 기준으로 manifold를 정의하고 이 위에서 tesor의 논리구조를 적용하려고 시도중  \n",
    "\n",
    "> ref : https://fma.if.usp.br/~mlima/teaching/PGF5292_2021/Carroll_SG.pdf\n",
    "\n",
    "위 pdf 파일을 이해하려고 노력중임  \n",
    "미분기하 강의를 더 들어도 현재 tensor라는 개념을 이해하기는 무리가 있다고 생각됨  \n",
    "\n",
    "* chart\n",
    "\n",
    "나는 chart가 일종의 함수로 이해를 하고 있었고  \n",
    "\n",
    "![](./img/chart_sample.png)\n",
    "\n",
    "다음과 같은 그림이 나왔을 때 함수를 직선으로 표현을 한다는게 이해가 되지 않았음  \n",
    "다른 ref를 찾아보이 chart는 (openset , funciton)과 같이 set과 function을 같이 정의를 해서 사용하는 컨셉이였음  \n",
    "이렇게 셋팅을 한다면 위와 같은 그림을 그리는것이 문제가 없음  \n",
    "\n",
    "manifold를 정의를 할려면 space 상에서 chart를 정의할 수 있어야 하는건가?  "
   ]
  },
  {
   "cell_type": "markdown",
   "id": "587c56fe",
   "metadata": {},
   "source": [
    "### 2023_09_05\n",
    "\n",
    "유투브에서 manifold를 정의하는 방식과 ref로 사용하는 정의하는 방식이 다름  \n",
    "![](./img/2023_09_05_chart.png)\n",
    "\n",
    "locally Euclidean은 정의가 있는데 Metrizable이 정의가 안되어 있음  \n",
    "\n",
    "* 각 책마다  서술하는 방식이 다른건가?\n",
    "* 아니면 이 책의 서술방식에서는 metrizalbe이라는 성질이 자동으로 정의가 되는 것인가? \n",
    "* 1번 state가 이것을 만족하게 해주는 것인가?  \n",
    "\n",
    "지금 차원을 바꿔서 생각을 하는데 차원의 바뀌는것에 따라서 $V_p$를 어떻게 서술되는지 테스트 해보고 있음  \n",
    "$V_p$를 정의를 해야 다음 개념을 적용이 가능할 것 같음  "
   ]
  },
  {
   "cell_type": "code",
   "execution_count": null,
   "id": "917ec97c",
   "metadata": {},
   "outputs": [],
   "source": []
  }
 ],
 "metadata": {
  "kernelspec": {
   "display_name": "Python 3",
   "language": "python",
   "name": "python3"
  },
  "language_info": {
   "codemirror_mode": {
    "name": "ipython",
    "version": 3
   },
   "file_extension": ".py",
   "mimetype": "text/x-python",
   "name": "python",
   "nbconvert_exporter": "python",
   "pygments_lexer": "ipython3",
   "version": "3.8.10"
  }
 },
 "nbformat": 4,
 "nbformat_minor": 5
}
