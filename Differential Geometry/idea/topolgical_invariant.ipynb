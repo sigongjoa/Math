{
 "cells": [
  {
   "cell_type": "markdown",
   "id": "9721ce45",
   "metadata": {},
   "source": [
    "# topolgical_invariant"
   ]
  },
  {
   "cell_type": "markdown",
   "id": "c43baa62",
   "metadata": {},
   "source": [
    "![](1.jpg)\n",
    "![](2.jpg)\n"
   ]
  },
  {
   "cell_type": "markdown",
   "id": "a7339edc",
   "metadata": {},
   "source": [
    "### 서론\n",
    "\n",
    "사람의 신체가 어떻게 구성이 되고 움직이는지에 대해서 관심이 있음  \n",
    "현재 딥러닝 쪽으로 관심이 있음  \n",
    "\n",
    "실제 데이터를 기반으로 사람의 움직임에 대해서 관찰을 하고 싶음  \n",
    "\n",
    "이를 구현하기 위해서는 이후에 여러가지 task가 있겠지만  \n",
    "제일 처음으로 관절의 움직임에 대해서 모델링  \n",
    "이후에 이에 대해서 실제 데이터를 넣어서 학습을 시켜서 사람이 할만한 자세들에 대해서 예측을 하고자함  \n",
    "\n",
    "\n"
   ]
  },
  {
   "cell_type": "markdown",
   "id": "bb731b31",
   "metadata": {},
   "source": [
    "### main\n",
    "\n",
    "관절단위에 대해서 모델이 인식을 할 수 있도록 만들어야함  \n",
    "위 두 이미지처럼 shape이 달라졌다고 해도 여전히 같은 왼쪽 다리임  \n",
    "\n",
    "이러한 움직임에 대해서 같이 볼 수 있는 관점이 있고 이를 neural network로 계산을 할 수 있기를 바람  \n",
    "\n",
    "이러한 object들은 구부리거나 펴거나 해서 찰흙으로 이해할 수 있을 것 같음\n",
    "topoloical object라고 이해하고 싶음  \n",
    "\n",
    "topoloical object가 shape이 변한다고 해도 바뀌지 않는 특징을 찾아내기를 바람  \n",
    "CNN도 이러한 invariance을 가정하고 동작하는 모델임  \n",
    "\n",
    "\n",
    "* 현재의 task에 맞도록 topoloical invariant를 어떤식으로 정의를 해야 할까?  \n",
    "\n"
   ]
  },
  {
   "cell_type": "markdown",
   "id": "d6257520",
   "metadata": {},
   "source": [
    "### 가치\n",
    "\n",
    "* 모델의 일반화의 성능이 더 좋아짐  \n",
    "팔이 어느정도 가려져 있으면 기존의 CNN에서는 위치정보를 확인하기 힘들어서 인식을 하기 힘들것 같음(확인 필요)  \n",
    "이러한 경우에 팔에 invariant의 정보를 이용 할 수 있다면 가려져 있는 경우에 대해서도 조금더 예측을 잘 할 같음  \n",
    "\n",
    "* xAI\n",
    "사람이 이해하는 개념에 대해서 수학적으로 모델링\n",
    "\n"
   ]
  },
  {
   "cell_type": "markdown",
   "id": "15ac3ab1",
   "metadata": {},
   "source": [
    "### method\n",
    "\n",
    "1. 적절한 curvature가 있어서 구부린것과 구부리지 않을 때만 같은 curvature를 정의 할 수 있을까?  \n",
    "\n",
    "2. power set을 이용해서 여러 object들 중에서 일부만 curvature를 무시한다\n",
    "\n",
    "3. curvature가 높아지는 방향을 smoothing 해서 계산을 한다."
   ]
  },
  {
   "cell_type": "code",
   "execution_count": null,
   "id": "a7b7e76f",
   "metadata": {},
   "outputs": [],
   "source": []
  }
 ],
 "metadata": {
  "kernelspec": {
   "display_name": "Python 3",
   "language": "python",
   "name": "python3"
  },
  "language_info": {
   "codemirror_mode": {
    "name": "ipython",
    "version": 3
   },
   "file_extension": ".py",
   "mimetype": "text/x-python",
   "name": "python",
   "nbconvert_exporter": "python",
   "pygments_lexer": "ipython3",
   "version": "3.8.10"
  }
 },
 "nbformat": 4,
 "nbformat_minor": 5
}
