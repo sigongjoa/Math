{
 "cells": [
  {
   "cell_type": "markdown",
   "id": "9aa8497d",
   "metadata": {},
   "source": [
    "### 확률론\n",
    "\n",
    "적분 -> 조건부 기대값 -> 마틴게일(이산-> 연속) -> 연습 문제 -> SDE -> 열방정식\n",
    "\n",
    "### 미분기하학\n",
    "$S^2 \\times S^2 $에서의 sectional curvature 계산 해보기  \n",
    "Ricci curvature 계산해보기  \n",
    "\n",
    "### 정보기하\n",
    "\n",
    "\n",
    "### 최적운송이론 \n"
   ]
  },
  {
   "cell_type": "code",
   "execution_count": null,
   "id": "2f356954",
   "metadata": {},
   "outputs": [],
   "source": []
  }
 ],
 "metadata": {
  "kernelspec": {
   "display_name": "Python 3",
   "language": "python",
   "name": "python3"
  },
  "language_info": {
   "codemirror_mode": {
    "name": "ipython",
    "version": 3
   },
   "file_extension": ".py",
   "mimetype": "text/x-python",
   "name": "python",
   "nbconvert_exporter": "python",
   "pygments_lexer": "ipython3",
   "version": "3.8.10"
  }
 },
 "nbformat": 4,
 "nbformat_minor": 5
}
